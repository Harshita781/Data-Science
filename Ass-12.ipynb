{
 "cells": [
  {
   "cell_type": "markdown",
   "id": "5a57bb20-b155-4a7e-b752-b81ae14bd5cc",
   "metadata": {},
   "source": [
    "Q1. What is a database? Differentiate between SQL and NoSQL databases.\n",
    "Ans- A database is an organized collection of structured information, or data, typically stored electronically in a computer system. A database is usually controlled by a database management system (DBMS).\n",
    "\n",
    "Difference-\n",
    "1. SQL is Relational Database Management System(RDBMS) whereas NoSQL is Non-relational or distributed database system.\n",
    "2. SQL is static in nature whrereas NoSQL is dynamic in nature.\n",
    "3. SQL is best suited for complex queries whereas NoSQL is not so good for complex queries.\n",
    "4. SQL is Vertically Scalable whereas NoSQL is Horizontally Scalable.\n",
    "5. SQL follows ACID properties whereas NoSQL follows CAP.\n",
    "6. Examples: SQL - MySQL, PostgreSQL, Oracle, MS-SQL Server, etc.\n",
    "             NoSQL - MongoDB, GraphQL, HBase, Neo4j, Cassandra, etc."
   ]
  },
  {
   "cell_type": "markdown",
   "id": "c3922c54-96f0-4884-b6b3-4d6de929d303",
   "metadata": {},
   "source": [
    "Q2. What is DDL? Explain why CREATE, DROP, ALTER, and TRUNCATE are used with an example.\n",
    "Ans- Data Definition Language(DDL) is a subset of SQL and a part of DBMS(Database Management System). DDL consist of Commands to commands like CREATE, ALTER, TRUNCATE and DROP. These commands are used to create or modify the tables in SQL.\n",
    "\n",
    "1. CREATE :\n",
    "This command is used to create a new table in SQL. The user has to give information like table name, column names, and their datatypes.\n",
    "Example:\n",
    "CREATE TABLE Student_info\n",
    "(\n",
    "College_Id number(2),\n",
    "College_name varchar(30),\n",
    "Branch varchar(10)\n",
    ");\n",
    "\n",
    "2. DROP :\n",
    "This command is used to remove an existing table along with its structure from the Database.\n",
    "Example:\n",
    "DROP TABLE Student_info;\n",
    "\n",
    "3. ALTER :\n",
    "This command is used to add, delete or change columns in the existing table. The user needs to know the existing table name and can do add, delete or modify tasks easily.\n",
    "Example:\n",
    "ALTER TABLE Student_info\n",
    "ADD CGPA number;\n",
    "\n",
    "4. TRUNCATE :\n",
    "This command is used to remove all rows from the table, but the structure of the table still exists.\n",
    "Example:\n",
    "TRUNCATE TABLE Student_info;"
   ]
  },
  {
   "cell_type": "markdown",
   "id": "7e542d75-c94a-44a1-9678-34bde2bedc23",
   "metadata": {},
   "source": [
    "Q3. What is DML? Explain INSERT, UPDATE, and DELETE with an example.\n",
    "Ans- The data manipulation language statements are used to retrieve, add, delete, and modify the data that is stored in the objects of database. \n",
    "1. INSERT: This command is used to insert data into a table.\n",
    "Example\n",
    "\n",
    "Insert into Employee(Emp_id, Emp_name) values (001, “ bhanu”);\n",
    "Insert into Employee(Emp_id, Emp_name) values (002, “ hari”);\n",
    "Insert into Employee(Emp_id, Emp_name) values (003, “ bob”);\n",
    "\n",
    "2. UPDATE: This command is used to update existing data within a table.\n",
    "Example\n",
    "\n",
    "UPDATE Employee SET Emp_name= Ram WHERE Emp_id= 001;\n",
    "\n",
    "3. DELETE:This command is used to delete records from a database table.\n",
    "Example\n",
    "\n",
    "DELETE from Employee WHERE Emp_id=002;"
   ]
  },
  {
   "cell_type": "markdown",
   "id": "8497e179-6ad3-458b-b041-aaaf623f80c5",
   "metadata": {},
   "source": [
    "Q4. What is DQL? Explain SELECT with an example.\n",
    "Ans- DQL statements are used for performing queries on the data within schema objects. The purpose of the DQL Command is to get some schema relation based on the query passed to it. We can define DQL as follows it is a component of SQL statement that allows getting data from the database and imposing order upon it. It includes the SELECT statement.\n",
    "\n",
    "SELECT :  This command allows getting the data out of the database to perform operations with it. When a SELECT is fired against a table or tables the result is compiled into a further temporary table, which is displayed or perhaps received by the program i.e. a front-end.\n",
    "\n",
    "Example: 1. To fetch all the fields from student table:\n",
    "             SELECT * FROM Student;\n",
    "          \n",
    "         2. To select particular data based on given condition:\n",
    "         SELECT CustomerName FROM Customer where Age = '21'; "
   ]
  },
  {
   "cell_type": "markdown",
   "id": "9eee681d-f80e-4c2d-8f6e-2bd487028064",
   "metadata": {},
   "source": [
    "Q5. Explain Primary Key and Foreign Key.\n",
    "1. Primary Key:\n",
    "A primary key is used to ensure that data in the specific column is unique. A column cannot have NULL values. It is either an existing table column or a column that is specifically generated by the database according to a defined sequence. \n",
    "\n",
    "2. Foreign Key: \n",
    "A foreign key is a column or group of columns in a relational database table that provides a link between data in two tables. It is a column (or columns) that references a column (most often the primary key) of another table."
   ]
  },
  {
   "cell_type": "markdown",
   "id": "0070e288-419f-4e5b-92d9-c3ab75b46663",
   "metadata": {},
   "source": [
    "Q6. Write a python code to connect MySQL to python. Explain the cursor() and execute() method.\n",
    "Ans- cursor(): A cursor is an object which helps to execute the query and fetch the records from the database.\n",
    "     executes(): This method executes the given database operation (query or command). The parameters found in the tuple or dictionary params are   bound to the variables in the operation."
   ]
  },
  {
   "cell_type": "code",
   "execution_count": null,
   "id": "b095867c-ba39-4337-a210-886107edd928",
   "metadata": {},
   "outputs": [],
   "source": [
    "import mysql.connector\n",
    "mydb = mysql.connector.connect(\n",
    "  host=\"localhost\",\n",
    "  user=\"root\",\n",
    "  password=\"root\"\n",
    ")\n",
    "mycursor = mydb.cursor()\n",
    "mycursor.execute(\"select c2,c5 from test2.test_table\");\n",
    "for i in mycursor.fetchall():\n",
    "    print(i)\n",
    "mydb.close()"
   ]
  },
  {
   "cell_type": "markdown",
   "id": "423dc54b-1fb3-4bdd-bcfe-d6bc1da3121f",
   "metadata": {},
   "source": [
    "Q7. Give the order of execution of SQL clauses in an SQL query.\n",
    "\n",
    "1. FROM/JOIN: The FROM and/or JOIN clauses are executed first to determine the data of interest.\n",
    "\n",
    "2. WHERE: The WHERE clause is executed to filter out records that do not meet the constraints.\n",
    "\n",
    "3. GROUP BY: The GROUP BY clause is executed to group the data based on the values in one or more columns.\n",
    "\n",
    "4. HAVING: The HAVING clause is executed to remove the created grouped records that don’t meet the constraints.\n",
    "\n",
    "5. SELECT: The SELECT clause is executed to derive all desired columns and expressions.\n",
    "\n",
    "6. ORDER BY: The ORDER BY clause is executed to sort the derived values in ascending or descending order.\n",
    "\n",
    "7. LIMIT/OFFSET: Finally, the LIMIT and/or OFFSET clauses are executed to keep or skip a specified number of rows."
   ]
  }
 ],
 "metadata": {
  "kernelspec": {
   "display_name": "Python 3 (ipykernel)",
   "language": "python",
   "name": "python3"
  },
  "language_info": {
   "codemirror_mode": {
    "name": "ipython",
    "version": 3
   },
   "file_extension": ".py",
   "mimetype": "text/x-python",
   "name": "python",
   "nbconvert_exporter": "python",
   "pygments_lexer": "ipython3",
   "version": "3.10.8"
  }
 },
 "nbformat": 4,
 "nbformat_minor": 5
}
