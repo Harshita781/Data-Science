{
 "cells": [
  {
   "cell_type": "code",
   "execution_count": 7,
   "id": "c2921a6b-3949-4edb-91a6-b06a29a1d8af",
   "metadata": {},
   "outputs": [
    {
     "name": "stdin",
     "output_type": "stream",
     "text": [
      "Enter percentage:  87\n"
     ]
    },
    {
     "name": "stdout",
     "output_type": "stream",
     "text": [
      "Grade is:  B\n"
     ]
    }
   ],
   "source": [
    "# Q.1\n",
    "percent=int(input(\"Enter percentage: \"))\n",
    "if percent >90 and percent<=100: \n",
    "    grade='A'\n",
    "elif percent >80 and percent<= 90:\n",
    "    grade='B'\n",
    "elif percent >=60 and percent<=80:\n",
    "    grade='C'\n",
    "elif percent<60 and percent>0:\n",
    "    grade='D'\n",
    "else:\n",
    "    grade='invalid percentage'\n",
    "print(\"Grade is: \",grade)\n",
    "    "
   ]
  },
  {
   "cell_type": "code",
   "execution_count": 8,
   "id": "8fa5477d-db72-4555-ba03-1166c2220aa2",
   "metadata": {},
   "outputs": [
    {
     "name": "stdin",
     "output_type": "stream",
     "text": [
      "Enter cost price of bike:  50000\n"
     ]
    },
    {
     "name": "stdout",
     "output_type": "stream",
     "text": [
      "Tax is :  2500.0\n"
     ]
    }
   ],
   "source": [
    "# Q.2\n",
    "cp=int(input(\"Enter cost price of bike: \"))\n",
    "tax=1\n",
    "if cp>100000:\n",
    "    tax=(cp*15)/100\n",
    "elif cp>50000 and cp<=100000:\n",
    "    tax=(cp*10)/100\n",
    "elif cp<=50000:\n",
    "    tax=(cp*5)/100\n",
    "else:\n",
    "    print(\"Enter cost price again\")\n",
    "print(\"Tax is : \",tax)"
   ]
  },
  {
   "cell_type": "code",
   "execution_count": 9,
   "id": "8ceee676-5ed6-4562-973a-f858c0f1a93e",
   "metadata": {},
   "outputs": [
    {
     "name": "stdin",
     "output_type": "stream",
     "text": [
      "Enter city:  Agra\n"
     ]
    },
    {
     "name": "stdout",
     "output_type": "stream",
     "text": [
      "Taj Mahal\n"
     ]
    }
   ],
   "source": [
    "# Q.3\n",
    "city=input(\"Enter city: \")\n",
    "if city=='Delhi' or city=='delhi':\n",
    "    print(\"Red Fort\")\n",
    "elif city=='Agra' or city=='agra':\n",
    "    print(\"Taj Mahal\")\n",
    "elif city=='Jaipur' or city=='jaipur':\n",
    "    print(\"Jai Mahal\")\n",
    "else:\n",
    "    print(\"Enter again\")\n",
    "    "
   ]
  },
  {
   "cell_type": "code",
   "execution_count": 10,
   "id": "ca904c1a-a2b8-494d-a513-0643967f6281",
   "metadata": {},
   "outputs": [
    {
     "name": "stdin",
     "output_type": "stream",
     "text": [
      "Enter a number:  30\n"
     ]
    },
    {
     "name": "stdout",
     "output_type": "stream",
     "text": [
      "1\n"
     ]
    }
   ],
   "source": [
    "# Q.4 Check how many times a given number can be divided by 3 before it is less than or equal to 10\n",
    "n=int(input(\"Enter a number: \"))\n",
    "count=0\n",
    "while n/3>=10:\n",
    "    n=n/3\n",
    "    count+=1\n",
    "print(count)\n",
    "#print(n)"
   ]
  },
  {
   "cell_type": "code",
   "execution_count": 11,
   "id": "7c6009e9-b359-4896-aeed-dc0cd9f1bede",
   "metadata": {},
   "outputs": [
    {
     "name": "stdin",
     "output_type": "stream",
     "text": [
      "Enter a number:  50\n"
     ]
    },
    {
     "name": "stdout",
     "output_type": "stream",
     "text": [
      "1\n",
      "100\n"
     ]
    }
   ],
   "source": [
    "# Q.5 Why and when to use while loopin python given a detailed description with example.\n",
    "\"\"\" when we want to execute a block of statements repeatedly until a given condition is satisfied.\n",
    "    when we don't know no. of iteration.\"\"\"\n",
    "# Enter a number and multiply it with 2 until it will be less than or equal to 100.\n",
    "num=int(input(\"Enter a number: \"))\n",
    "count=0\n",
    "while num*2<=100:\n",
    "    num=num*2\n",
    "    count+=1\n",
    "print(count)\n",
    "print(num)"
   ]
  },
  {
   "cell_type": "code",
   "execution_count": 2,
   "id": "098e35db-68c9-4876-ae5f-423e9ed0fcc5",
   "metadata": {},
   "outputs": [
    {
     "name": "stdout",
     "output_type": "stream",
     "text": [
      "* \n",
      "* * \n",
      "* * * \n",
      "* * * * \n",
      "* * * * * \n"
     ]
    }
   ],
   "source": [
    "# Q.6 Use nested while loop to print 3 different pattern\n",
    "i=1\n",
    "while i<=5:\n",
    "    j=1\n",
    "    while j<=i:\n",
    "        print(\"*\",end=\" \")\n",
    "        j=j+1\n",
    "    print(\"\")\n",
    "    i=i+1"
   ]
  },
  {
   "cell_type": "code",
   "execution_count": 3,
   "id": "f0e306e1-babf-4dc0-9c35-593d5d295766",
   "metadata": {},
   "outputs": [
    {
     "name": "stdout",
     "output_type": "stream",
     "text": [
      "* * * * * \n",
      "* * * * \n",
      "* * * \n",
      "* * \n",
      "* \n"
     ]
    }
   ],
   "source": [
    "i=1\n",
    "while i<=5:\n",
    "    j=5\n",
    "    while j>=i:\n",
    "        print(\"*\",end=\" \")\n",
    "        j=j-1\n",
    "    print(\"\")\n",
    "    i=i+1"
   ]
  },
  {
   "cell_type": "code",
   "execution_count": 4,
   "id": "df3e753a-073c-4b20-83dc-ebe2977d56a8",
   "metadata": {},
   "outputs": [
    {
     "name": "stdout",
     "output_type": "stream",
     "text": [
      "        * \n",
      "      * * * \n",
      "    * * * * * \n",
      "  * * * * * * * \n",
      "* * * * * * * * * \n"
     ]
    }
   ],
   "source": [
    "rows = 5\n",
    "k = 0\n",
    "i=1\n",
    "while i<rows+1:\n",
    "    space=1\n",
    "    while space<(rows-i)+1:\n",
    "        print(end=\"  \")\n",
    "        space+=1\n",
    "    while k!=(2*i-1):\n",
    "        print(\"* \", end=\"\")\n",
    "        k += 1\n",
    "    k = 0\n",
    "    print()\n",
    "    i+=1"
   ]
  },
  {
   "cell_type": "code",
   "execution_count": 5,
   "id": "ab0e8589-2991-45c2-8799-3d98064f13d5",
   "metadata": {},
   "outputs": [
    {
     "name": "stdout",
     "output_type": "stream",
     "text": [
      "10\n",
      "9\n",
      "8\n",
      "7\n",
      "6\n",
      "5\n",
      "4\n",
      "3\n",
      "2\n",
      "1\n"
     ]
    }
   ],
   "source": [
    "# Q.7 Reverse a while loop to display numbers from 10 to 1.\n",
    "n=10\n",
    "while n>0:\n",
    "    print(n)\n",
    "    n-=1"
   ]
  },
  {
   "cell_type": "code",
   "execution_count": 6,
   "id": "1861c643-a875-4a36-bd39-bc348320f993",
   "metadata": {},
   "outputs": [
    {
     "name": "stdout",
     "output_type": "stream",
     "text": [
      "10\n",
      "9\n",
      "8\n",
      "7\n",
      "6\n",
      "5\n",
      "4\n",
      "3\n",
      "2\n",
      "1\n"
     ]
    }
   ],
   "source": [
    "# Q.8 Reverse a while loop to display numbers from 10 to 1.\n",
    "n=10\n",
    "while n>0:\n",
    "    print(n)\n",
    "    n-=1"
   ]
  }
 ],
 "metadata": {
  "kernelspec": {
   "display_name": "Python 3 (ipykernel)",
   "language": "python",
   "name": "python3"
  },
  "language_info": {
   "codemirror_mode": {
    "name": "ipython",
    "version": 3
   },
   "file_extension": ".py",
   "mimetype": "text/x-python",
   "name": "python",
   "nbconvert_exporter": "python",
   "pygments_lexer": "ipython3",
   "version": "3.10.8"
  }
 },
 "nbformat": 4,
 "nbformat_minor": 5
}
