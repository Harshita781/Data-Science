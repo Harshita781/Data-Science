{
 "cells": [
  {
   "cell_type": "raw",
   "id": "55e3c375-4b29-49cc-996d-6568ae138460",
   "metadata": {},
   "source": [
    "1. Who developed python programming language ?\n",
    "Ans- Guido van Rossum\n"
   ]
  },
  {
   "cell_type": "raw",
   "id": "d8317b80-1e79-4711-a401-efa7c6d642ba",
   "metadata": {},
   "source": [
    "2. Which type of programming does python supports ?\n",
    "Ans- Object oriented and structured programming\n",
    "   "
   ]
  },
  {
   "cell_type": "raw",
   "id": "ae45d8eb-54a8-4f0a-827f-aef8154b4982",
   "metadata": {},
   "source": [
    "3. Is python is case sensitive when dealing with identifiers ?\n",
    "Ans- Yes python is case sensitive language.\n",
    "    "
   ]
  },
  {
   "cell_type": "raw",
   "id": "f8c77004-7c18-46a8-a7da-1729d05e5732",
   "metadata": {},
   "source": [
    "4. What is the correct extension of the python file ?\n",
    "Ans- .py (filename.py) "
   ]
  },
  {
   "cell_type": "raw",
   "id": "8e85ae48-6475-4f22-9e3f-ff74221b83d3",
   "metadata": {},
   "source": [
    "6. Name a few block of code used to define in Python language.\n",
    "Ans- a module, a function body, and a class definition."
   ]
  },
  {
   "cell_type": "raw",
   "id": "f4a717ab-7278-4ea1-959c-94c44c90114d",
   "metadata": {},
   "source": [
    "5. Is python code compiled or interpreted ?\n",
    "Ans- Python is interpreted language."
   ]
  },
  {
   "cell_type": "raw",
   "id": "fa4afb71-7643-4ecc-b555-eae05f60b165",
   "metadata": {},
   "source": [
    "7. State a character used to give single line comment in python.\n",
    "Ans- # (#sentence)"
   ]
  },
  {
   "cell_type": "raw",
   "id": "dbac5a52-45fc-4b4d-b73e-cf4ef9059bba",
   "metadata": {},
   "source": [
    "8. Mention functions which can help us to find the version of python that we are currently working on.\n",
    "Ans- sys.version, python_version()."
   ]
  },
  {
   "cell_type": "raw",
   "id": "c9869c90-14bc-4b2f-8619-5d212a7df221",
   "metadata": {},
   "source": [
    "9. Python supports the creation of anonymous functions at runtime, using a construct called_ _ _ _\n",
    "Ans- lambda functions"
   ]
  },
  {
   "cell_type": "raw",
   "id": "259c92dc-fd21-42b4-b3f7-51f41b42909b",
   "metadata": {},
   "source": [
    "10. What does pip stand for python ?\n",
    "Ans- pip install packages"
   ]
  },
  {
   "cell_type": "raw",
   "id": "2068dc9b-7943-441e-9d9b-d92d7b2df995",
   "metadata": {},
   "source": [
    "11. Mention few built-in functions in python.\n",
    "Ans- type(), input(), print(), sort(), upper(), lower(), pow(), append(), extend(), reverse() etc.... "
   ]
  },
  {
   "cell_type": "raw",
   "id": "34711f76-294e-4fcf-8b81-b9cf835e66ed",
   "metadata": {},
   "source": [
    "12. What is the maximum possible length of ans identifier in python?\n",
    "Ans- 79 characters"
   ]
  },
  {
   "cell_type": "raw",
   "id": "0d15dda0-41d4-4cc0-a2fe-f53472f83b43",
   "metadata": {},
   "source": [
    "13. What are the benefits of using python?\n",
    "Ans-(i)   Easy to read.learn and write.\n",
    "    (ii)  Improved productivity.\n",
    "    (iii) Interpreted language.\n",
    "    (iv)  Dynamically typed.\n",
    "    (v)   Free and open source.\n",
    "    (vi)  Vast libraries support.\n",
    "    (vii) Portability."
   ]
  },
  {
   "cell_type": "raw",
   "id": "ff306c23-b06a-4cd8-b5ee-373402da8962",
   "metadata": {},
   "source": [
    "14. How is memory managed in python?\n",
    "Ans- There is a private heap contains all python objects and data structures."
   ]
  },
  {
   "cell_type": "raw",
   "id": "6c749671-b513-4fc2-91a3-87fed50aef97",
   "metadata": {},
   "source": [
    "15. How to install python on windows and set path variables ?\n",
    "Ans- First install the latest(or as your wish) python version from google.\n",
    "then \n",
    "(1) Right-clicking This PC and going to Properties.\n",
    "(2) Clicking on the Advanced system settings in the menu on the left.\n",
    "(3) Clicking on the Environment Variables button on the bottom right.\n",
    "(4) In the System variables section, selecting the Path variable and clicking on Edit. The next screen will show all the directories that are currently a part of the PATH variable.\n",
    "(5) Clicking on New and entering Python’s install directory."
   ]
  },
  {
   "cell_type": "raw",
   "id": "5f16ed38-cfc5-45b0-9b35-a26911341a81",
   "metadata": {},
   "source": [
    "16. Is indentation is required in python?\n",
    "Ans="
   ]
  }
 ],
 "metadata": {
  "kernelspec": {
   "display_name": "Python 3 (ipykernel)",
   "language": "python",
   "name": "python3"
  },
  "language_info": {
   "codemirror_mode": {
    "name": "ipython",
    "version": 3
   },
   "file_extension": ".py",
   "mimetype": "text/x-python",
   "name": "python",
   "nbconvert_exporter": "python",
   "pygments_lexer": "ipython3",
   "version": "3.10.8"
  }
 },
 "nbformat": 4,
 "nbformat_minor": 5
}
