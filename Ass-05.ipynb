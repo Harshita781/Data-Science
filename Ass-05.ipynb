{
 "cells": [
  {
   "cell_type": "markdown",
   "id": "f082c011-6fc2-4d69-9b00-e959f187be9e",
   "metadata": {},
   "source": [
    "1. Who developed python programming language ?\n",
    "Ans- Guido van Rossum\n"
   ]
  },
  {
   "cell_type": "markdown",
   "id": "313dcfc2-cc12-4026-b9d3-52ede6695268",
   "metadata": {},
   "source": [
    "2. Which type of programming does python supports ?\n",
    "Ans- Object oriented and structured programming\n",
    "   "
   ]
  },
  {
   "cell_type": "markdown",
   "id": "79a2c7ef-a740-4ac3-ad3f-b38a4b55d6bb",
   "metadata": {},
   "source": [
    "3. Is python is case sensitive when dealing with identifiers ?\n",
    "Ans- Yes python is case sensitive language.\n",
    "    "
   ]
  },
  {
   "cell_type": "markdown",
   "id": "70762c6a-0a7d-49ab-a5b5-c7a591cbd7df",
   "metadata": {},
   "source": [
    "4. What is the correct extension of the python file ?\n",
    "Ans- .py (filename.py) \n"
   ]
  },
  {
   "cell_type": "markdown",
   "id": "93e07d35-cf68-41e2-a886-e83df6f08098",
   "metadata": {},
   "source": [
    "5. Is python code compiled or interpreted ?\n",
    "Ans- Python is interpreted language.\n"
   ]
  },
  {
   "cell_type": "markdown",
   "id": "b9db40a6-f884-4970-ac8f-68e5849938d1",
   "metadata": {},
   "source": [
    "6. Name a few block of code used to define in Python language.\n",
    "Ans- a module, a function body, and a class definition.\n"
   ]
  },
  {
   "cell_type": "markdown",
   "id": "321a8b7a-ebc4-4d8a-be47-5be292ca6e0c",
   "metadata": {},
   "source": [
    "7. State a character used to give single line comment in python.\n",
    "Ans- # (#sentence)\n"
   ]
  },
  {
   "cell_type": "markdown",
   "id": "37d396c9-55b9-469f-8976-d0a0b5155355",
   "metadata": {},
   "source": [
    "8. Mention functions which can help us to find the version of python that we are currently working on.\n",
    "Ans- sys.version, python_version().\n"
   ]
  },
  {
   "cell_type": "markdown",
   "id": "dad26f3b-7c1c-423e-a8be-a96e29cbd8d5",
   "metadata": {},
   "source": [
    "9. Python supports the creation of anonymous functions at runtime, using a construct called_ _ _ _\n",
    "Ans- lambda functions\n"
   ]
  },
  {
   "cell_type": "markdown",
   "id": "5e73d1e2-760f-4cc0-9e2a-3d080450dd0f",
   "metadata": {},
   "source": [
    "10. What does pip stand for python ?\n",
    "Ans- pip install packages\n"
   ]
  },
  {
   "cell_type": "markdown",
   "id": "8d35fab2-96bb-4583-af13-8d4c17154172",
   "metadata": {},
   "source": [
    "11. Mention few built-in functions in python.\n",
    "Ans- type(), input(), print(), sort(), upper(), lower(), pow(), append(), extend(), reverse() etc.... \n"
   ]
  },
  {
   "cell_type": "markdown",
   "id": "72702fe0-76c2-4725-88a0-eb0010010952",
   "metadata": {},
   "source": [
    "12. What is the maximum possible length of ans identifier in python?\n",
    "Ans- 79 characters\n"
   ]
  },
  {
   "cell_type": "markdown",
   "id": "5949db3f-16e4-41b9-a245-a152b66a6d48",
   "metadata": {},
   "source": [
    "13. What are the benefits of using python?\n",
    "Ans-(i)   Easy to read.learn and write.\n",
    "    (ii)  Improved productivity.\n",
    "    (iii) Interpreted language.\n",
    "    (iv)  Dynamically typed.\n",
    "    (v)   Free and open source.\n",
    "    (vi)  Vast libraries support.\n",
    "    (vii) Portability.\n",
    "    "
   ]
  },
  {
   "cell_type": "markdown",
   "id": "ac9e09d2-fbd1-4a47-8a03-c8f9901cf0cc",
   "metadata": {},
   "source": [
    "14. How is memory managed in python?\n",
    "Ans- There is a private heap contains all python objects and data structures.\n"
   ]
  },
  {
   "cell_type": "markdown",
   "id": "69fae2e8-b3af-46d4-a7d8-8093a96948ce",
   "metadata": {},
   "source": [
    "15. How to install python on windows and set path variables ?\n",
    "Ans- First install the latest(or as your wish) python version from google.\n",
    "then \n",
    "(1) Right-clicking This PC and going to Properties.\n",
    "(2) Clicking on the Advanced system settings in the menu on the left.\n",
    "(3) Clicking on the Environment Variables button on the bottom right.\n",
    "(4) In the System variables section, selecting the Path variable and clicking on Edit.The next screen will show all the directories that are currently a part of the PATH variable.\n",
    "(5) Clicking on New and entering Python’s install directory.\n"
   ]
  },
  {
   "cell_type": "markdown",
   "id": "d9f3ac8a-985b-423e-b640-a447685d0b6a",
   "metadata": {},
   "source": [
    "16. Is indentation is required in python?\n",
    "Ans- Yes indentation is required.\n"
   ]
  }
 ],
 "metadata": {
  "kernelspec": {
   "display_name": "Python 3 (ipykernel)",
   "language": "python",
   "name": "python3"
  },
  "language_info": {
   "codemirror_mode": {
    "name": "ipython",
    "version": 3
   },
   "file_extension": ".py",
   "mimetype": "text/x-python",
   "name": "python",
   "nbconvert_exporter": "python",
   "pygments_lexer": "ipython3",
   "version": "3.10.8"
  }
 },
 "nbformat": 4,
 "nbformat_minor": 5
}
