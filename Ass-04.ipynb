{
 "cells": [
  {
   "cell_type": "markdown",
   "id": "89d155f1-445b-4bc2-a72e-bc4fb2dc9e35",
   "metadata": {},
   "source": [
    "Q1. Explain Class and Object with respect to Object-Oriented Programming. Give a suitable example.\n",
    "\n",
    "Class: Class is a blueprint that describe behavior of object and class is also a clasification of real world entity.\n",
    "Object: An object is an instance of a class like property, functions, specification etc."
   ]
  },
  {
   "cell_type": "code",
   "execution_count": 7,
   "id": "c17775ff-6744-43c2-bc22-44bdcc161932",
   "metadata": {},
   "outputs": [
    {
     "data": {
      "text/plain": [
       "('maruti_suzuki', 800, 300000)"
      ]
     },
     "execution_count": 7,
     "metadata": {},
     "output_type": "execute_result"
    }
   ],
   "source": [
    "# Example\n",
    "class car:\n",
    "    def __init__(self,name,model,cost):\n",
    "        self.name=name\n",
    "        self.model=model\n",
    "        self.cost=cost\n",
    "    def car_details(self):\n",
    "        return self.name,self.model,self.cost\n",
    "suzuki=car('maruti_suzuki',800,300000)\n",
    "suzuki.car_details()"
   ]
  },
  {
   "cell_type": "markdown",
   "id": "5234f2f9-3709-4e1b-b7b9-6f4a2af43086",
   "metadata": {},
   "source": [
    "Q2. Name the four pillars of OOPs.\n",
    "\n",
    "(i)   Abstraction\n",
    "(ii)  Encapsulation\n",
    "(iii) Inheritance\n",
    "(iv)  Polymorphism\n"
   ]
  },
  {
   "cell_type": "markdown",
   "id": "e9ff45b4-7c95-46fd-85cf-5c0bb7e7cca9",
   "metadata": {},
   "source": [
    "Q3. Explain why the __init__() function is used. Give a suitable example.\n",
    " It is a inbuilt function used to pass data/attributes into a class."
   ]
  },
  {
   "cell_type": "code",
   "execution_count": 11,
   "id": "f9e745c2-2d20-4e4d-b99c-f1d171500aa9",
   "metadata": {},
   "outputs": [
    {
     "data": {
      "text/plain": [
       "('Harshita Sharma', 120, 'CSE', 3)"
      ]
     },
     "execution_count": 11,
     "metadata": {},
     "output_type": "execute_result"
    }
   ],
   "source": [
    "class student:\n",
    "    def __init__(self,name,enrollment,branch,year):\n",
    "        self.name=name\n",
    "        self.enrollment=enrollment\n",
    "        self.branch=branch\n",
    "        self.year=year\n",
    "    def student_details(self):\n",
    "        return self.name,self.enrollment,self.branch,self.year\n",
    "obj1=student('Harshita Sharma',120,'CSE',3)\n",
    "obj1.student_details()"
   ]
  },
  {
   "cell_type": "markdown",
   "id": "237f7374-5091-48b9-b16f-765de49a9f77",
   "metadata": {},
   "source": [
    "Q4. Why self is used in OOPs?\n",
    "\n",
    "Ans- The use of self makes it easier to distinguish between instance attributes (and methods) from local variables."
   ]
  },
  {
   "cell_type": "markdown",
   "id": "84aae062-d33d-47d1-a6e6-b42bef4a7906",
   "metadata": {},
   "source": [
    "Q5. What is inheritance? Give an example for each type of inheritance.\n",
    "\n",
    "Ans - Inheritance is a process of obtaining properties and characteristics(variables and methods) of another class.\n",
    "There are five types of inheritance in python\n"
   ]
  },
  {
   "cell_type": "code",
   "execution_count": 2,
   "id": "6d540e5e-80f1-4013-b634-8ee1a2822d13",
   "metadata": {},
   "outputs": [
    {
     "name": "stdout",
     "output_type": "stream",
     "text": [
      "This is the function of base class\n"
     ]
    }
   ],
   "source": [
    "# 1. single inheritance:\n",
    "class base:\n",
    "    def base_show(self):\n",
    "        print(\"This is the function of base class\")\n",
    "class derive(base):\n",
    "    pass\n",
    "derive_obj1=derive()\n",
    "derive_obj1.base_show()"
   ]
  },
  {
   "cell_type": "code",
   "execution_count": 4,
   "id": "72ffece8-0044-4fe5-a551-c0d9e4d9f29f",
   "metadata": {},
   "outputs": [
    {
     "name": "stdout",
     "output_type": "stream",
     "text": [
      "This is the function of class1\n",
      "This is the function of class2\n"
     ]
    }
   ],
   "source": [
    "# 2. Multilevel inheritance:\n",
    "class class1:\n",
    "    def class1_show(self):\n",
    "        print(\"This is the function of class1\")\n",
    "class class2(class1):\n",
    "    def class2_show(self):\n",
    "        print(\"This is the function of class2\")\n",
    "class class3(class2):\n",
    "    pass\n",
    "obj_class3=class3()\n",
    "obj_class3.class1_show()\n",
    "obj_class3.class2_show()"
   ]
  },
  {
   "cell_type": "code",
   "execution_count": 5,
   "id": "7d6ab2c9-45df-430a-877c-be16a53a9f62",
   "metadata": {},
   "outputs": [
    {
     "name": "stdout",
     "output_type": "stream",
     "text": [
      "This is the function of class1\n",
      "This is the function of class2\n"
     ]
    }
   ],
   "source": [
    "# 3.Multiple inheritance:\n",
    "class class1:\n",
    "    def class1_show(self):\n",
    "        print(\"This is the function of class1\")\n",
    "class class2:\n",
    "    def class2_show(self):\n",
    "        print(\"This is the function of class2\")\n",
    "class class3(class1,class2):\n",
    "    pass\n",
    "obj_class3=class3()\n",
    "obj_class3.class1_show()\n",
    "obj_class3.class2_show()"
   ]
  },
  {
   "cell_type": "code",
   "execution_count": 6,
   "id": "e35eb7d0-b6ca-42bb-991c-b3a9a5ac5c58",
   "metadata": {},
   "outputs": [
    {
     "name": "stdout",
     "output_type": "stream",
     "text": [
      "This function is in parent class.\n",
      "This function is in child 1.\n",
      "This function is in parent class.\n",
      "This function is in child 2.\n"
     ]
    }
   ],
   "source": [
    "# 4.Hierarchical Inheritance: \n",
    "class Parent:\n",
    "    def func1(self):\n",
    "        print(\"This function is in parent class.\")\n",
    "class Child1(Parent):\n",
    "    def func2(self):\n",
    "        print(\"This function is in child 1.\")\n",
    "class Child2(Parent):\n",
    "    def func3(self):\n",
    "        print(\"This function is in child 2.\")\n",
    "object1 = Child1()\n",
    "object2 = Child2()\n",
    "object1.func1()\n",
    "object1.func2()\n",
    "object2.func1()\n",
    "object2.func3()"
   ]
  },
  {
   "cell_type": "code",
   "execution_count": null,
   "id": "0499972b-d168-436e-be63-fe120080c7d9",
   "metadata": {},
   "outputs": [],
   "source": [
    "# 5.Hybrid inheritance:\n",
    "# Python program to demonstrate\n",
    "# hybrid inheritance\n",
    "\n",
    "\n",
    "class School:\n",
    "\tdef func1(self):\n",
    "\t\tprint(\"This function is in school.\")\n",
    "\n",
    "\n",
    "class Student1(School):\n",
    "\tdef func2(self):\n",
    "\t\tprint(\"This function is in student 1. \")\n",
    "class Student2(School):\n",
    "\tdef func3(self):\n",
    "\t\tprint(\"This function is in student 2.\")\n",
    "class Student3(Student1, School):\n",
    "\tdef func4(self):\n",
    "\t\tprint(\"This function is in student 3.\")\n",
    "object = Student3()\n",
    "object.func1()\n",
    "object.func2()\n"
   ]
  }
 ],
 "metadata": {
  "kernelspec": {
   "display_name": "Python 3 (ipykernel)",
   "language": "python",
   "name": "python3"
  },
  "language_info": {
   "codemirror_mode": {
    "name": "ipython",
    "version": 3
   },
   "file_extension": ".py",
   "mimetype": "text/x-python",
   "name": "python",
   "nbconvert_exporter": "python",
   "pygments_lexer": "ipython3",
   "version": "3.10.8"
  }
 },
 "nbformat": 4,
 "nbformat_minor": 5
}
