{
 "cells": [
  {
   "cell_type": "markdown",
   "id": "78039376-8281-48db-815c-cbfbb3512c0e",
   "metadata": {},
   "source": [
    "Q1. What is Flask Framework? What are the advantages of Flask Framework?\n",
    "Ans- Flask is a web framework, it’s a Python module that lets you develop web applications easily. It’s has a small and easy-to-extend core: it’s a microframework that doesn’t include an ORM (Object Relational Manager) or such features.It does have many cool features like url routing, template engine. It is a WSGI web app framework.\n",
    "\n",
    "Advantages:\n",
    "1. Adaptable to the latest technologies\n",
    "2. Suitable for small case projects\n",
    "3. Requires small codebase size for simple functions\n",
    "4. Ensures scalability for simplistic applications\n",
    "5. Easy to build a quick prototype\n",
    "6. Routing URL functions through Werkzeug makes the process easier. \n",
    "7. Hassle-free application development and maintenance. \n",
    "8. Database integration is easy\n",
    "9. Extensible and easy core system. \n",
    "10. Flexible and allow full control access. "
   ]
  },
  {
   "cell_type": "code",
   "execution_count": null,
   "id": "fc629635-3ef6-4498-9b77-e3434470f01b",
   "metadata": {},
   "outputs": [],
   "source": [
    "\"\"\"Q2. Create a simple Flask application to display ‘Hello World!!’. Attach the screenshot of the output in\n",
    "Jupyter Notebook.\"\"\"\n",
    "from flask import Flask\n",
    "from flask import request\n",
    "app = Flask(__name__)\n",
    "\n",
    "@app.route(\"/\")\n",
    "def hello_world():\n",
    "    return \"<h1>Hello, World1!</h1>\"\n",
    "\n",
    "if __name__==\"__main__\":\n",
    "    app.run(host=\"0.0.0.0\")\n"
   ]
  },
  {
   "cell_type": "code",
   "execution_count": 9,
   "id": "c2c9d513-04be-47f2-93e7-c643f1bf6d42",
   "metadata": {},
   "outputs": [
    {
     "data": {
      "text/html": [
       "<img src=\"Screenshot (440).png\" width=\"300\" height=\"300\"/>"
      ],
      "text/plain": [
       "<IPython.core.display.Image object>"
      ]
     },
     "execution_count": 9,
     "metadata": {},
     "output_type": "execute_result"
    }
   ],
   "source": [
    "\n",
    "from IPython.display import Image\n",
    "\n",
    "Image(url=\"Screenshot (440).png\", width=300, height=300)\n"
   ]
  },
  {
   "cell_type": "markdown",
   "id": "9290104a-e096-433c-9dca-141fcca1889f",
   "metadata": {},
   "source": [
    "Q3. What is App routing in Flask? Why do we use app routes?\n",
    "Ans- App Routing means mapping the URLs to a specific function that will handle the logic for that URL. Modern web frameworks use more meaningful URLs to help users remember the URLs and make navigation simpler. \n",
    "\n",
    "App routing is used to map the specific URL with the associated function that is intended to perform some task. It is used to access some particular page like Flask Tutorial in the web application.\n"
   ]
  },
  {
   "cell_type": "code",
   "execution_count": null,
   "id": "58dfc53d-4eb1-4ebe-998b-c4de24bb7c72",
   "metadata": {},
   "outputs": [],
   "source": [
    "\"\"\"Q4. Create a “/welcome” route to display the welcome message “Welcome to ABC Corporation” and a “/”\n",
    "route to show the following details:\n",
    "Company Name: ABC Corporation\n",
    "Location: India\n",
    "Contact Detail: 999-999-9999\"\"\"\n",
    "\n",
    "from flask import Flask\n",
    "from flask import request\n",
    "app = Flask(__name__)\n",
    "\n",
    "@app.route(\"/\")\n",
    "def details():\n",
    "    return \"<h1>Company Name: ABC Corporation<br>Location: India<br>Contact Detail: 999-999-9999</h1>\"\n",
    "@app.route(\"/welcome\")\n",
    "def welcome_page():\n",
    "    return \"<h1>Welcome to ABC Corporation</h1>\"\n",
    "if __name__==\"__main__\":\n",
    "    app.run(host=\"0.0.0.0\")"
   ]
  },
  {
   "cell_type": "code",
   "execution_count": 10,
   "id": "a4c0778c-d2a5-40d0-a88a-9562c129b4a3",
   "metadata": {},
   "outputs": [
    {
     "data": {
      "text/html": [
       "<img src=\"Screenshot (442).png\" width=\"300\" height=\"300\"/>"
      ],
      "text/plain": [
       "<IPython.core.display.Image object>"
      ]
     },
     "execution_count": 10,
     "metadata": {},
     "output_type": "execute_result"
    }
   ],
   "source": [
    "from IPython.display import Image\n",
    "Image(url=\"Screenshot (442).png\", width=300, height=300)"
   ]
  },
  {
   "cell_type": "code",
   "execution_count": 11,
   "id": "930fd156-9558-4497-8a53-b03a7efecc47",
   "metadata": {},
   "outputs": [
    {
     "data": {
      "text/html": [
       "<img src=\"Screenshot (441).png\" width=\"300\" height=\"300\"/>"
      ],
      "text/plain": [
       "<IPython.core.display.Image object>"
      ]
     },
     "execution_count": 11,
     "metadata": {},
     "output_type": "execute_result"
    }
   ],
   "source": [
    "from IPython.display import Image\n",
    "\n",
    "Image(url=\"Screenshot (441).png\", width=300, height=300)\n"
   ]
  },
  {
   "cell_type": "code",
   "execution_count": null,
   "id": "30ea9885-0452-4c37-a1e0-e1d8c71abc8a",
   "metadata": {},
   "outputs": [],
   "source": [
    "\"\"\"Q5. What function is used in Flask for URL Building? Write a Python code to demonstrate the working of the\n",
    "url_for() function.\n",
    "\n",
    "Ans- The url_for() method, is used to prepare a URL, for a function dynamically, such that, changing URLs, in the application, is avoided. It accepts, the name of the view function, as the first argument, and, any number of keywords, to be sent(to the view function), as the second argument. \n",
    "\n",
    "Syntax: url_for(‘<function_name>’,<key> = <value>)\"\"\"\n",
    "\n",
    "\n",
    "from flask import url_for, Flask\n",
    "appFlask = Flask(__name__)\n",
    "@appFlask.route('/home')\n",
    "def home():\n",
    "   return 'We are in Home Page!'\n",
    "with appFlask.test_request_context():\n",
    "    print(url_for('login'))"
   ]
  }
 ],
 "metadata": {
  "kernelspec": {
   "display_name": "Python 3 (ipykernel)",
   "language": "python",
   "name": "python3"
  },
  "language_info": {
   "codemirror_mode": {
    "name": "ipython",
    "version": 3
   },
   "file_extension": ".py",
   "mimetype": "text/x-python",
   "name": "python",
   "nbconvert_exporter": "python",
   "pygments_lexer": "ipython3",
   "version": "3.10.8"
  }
 },
 "nbformat": 4,
 "nbformat_minor": 5
}
