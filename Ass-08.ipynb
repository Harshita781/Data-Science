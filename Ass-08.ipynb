{
 "cells": [
  {
   "cell_type": "code",
   "execution_count": 31,
   "id": "b169b054-c514-46ce-b4c5-195b1898d387",
   "metadata": {},
   "outputs": [
    {
     "name": "stdout",
     "output_type": "stream",
     "text": [
      "This is our txt file \n",
      "This is our append mode\n",
      "\n",
      "\n",
      "This is our txt file \n",
      "\n"
     ]
    }
   ],
   "source": [
    "\"\"\"Q1. Which function is used to open a file? What are the different modes of opening a file? Explain each mode\n",
    "of file opening.\"\"\"\n",
    "file1 = open(\"test.txt\")\n",
    "# writing mode: Open a file for writing. Creates a new file if it does not exist or truncates and over-write the file if it exists.\n",
    "file1 = open(\"test.txt\", \"w\")\n",
    "file1.write(\"This is our txt file \\n\")\n",
    "file1.close()\n",
    "\n",
    "#Append Only mode: Open the file for writing. The file is created if it does not exist.The handle is positioned at the end of the file.\n",
    "#The data being written will be inserted at the end, after the existing data.\n",
    "f1=open(\"test.txt\",\"a\")\n",
    "f1.write(\"This is our append mode\")\n",
    "f1.close()\n",
    "\n",
    "# reading mode:  Open text file for reading. The handle is positioned at the beginning of the file. If the file does not exists,\n",
    "# raises the I/O error. This is also the default mode in which a file is opened.\n",
    "f= open(\"test.txt\",\"r\")\n",
    "print(f.read())\n",
    "print(\"\\n\")\n",
    "f.seek(0)\n",
    "print(f.readline())\n",
    "f.close()\n"
   ]
  },
  {
   "cell_type": "code",
   "execution_count": 53,
   "id": "e822bbb9-d561-4275-a05b-bf27c8a646ab",
   "metadata": {},
   "outputs": [],
   "source": [
    "\"\"\"Q2. Why close() function is used? Why is it important to close a file?\"\"\"\n",
    "# Ans: close() function is used to close an open file.\n",
    "# It is mandatory to close file beacause in some cases, due to buffering, \n",
    "# changes made to a file may not show until you close the file.\n",
    "\n",
    "f2 =open(\"test.txt\",\"w\")\n",
    "f2.write(\"This is our txt file\")\n",
    "f2.close()\n"
   ]
  },
  {
   "cell_type": "code",
   "execution_count": 54,
   "id": "281abf23-3837-4362-990b-9b98d62d4852",
   "metadata": {},
   "outputs": [
    {
     "data": {
      "text/plain": [
       "'I want ot become Data Scientist'"
      ]
     },
     "execution_count": 54,
     "metadata": {},
     "output_type": "execute_result"
    }
   ],
   "source": [
    "\"\"\"Q3. Write a python program to create a text file. Write ‘I want to become a Data Scientist’ in that file. Then\n",
    "close the file. Open this file and read the content of the file.\"\"\"\n",
    "file =open(\"test.txt\",\"w\")\n",
    "file.write(\"I want ot become Data Scientist\")\n",
    "file.close()\n",
    "file=open(\"test.txt\",\"r\")\n",
    "file.read()"
   ]
  },
  {
   "cell_type": "code",
   "execution_count": 72,
   "id": "b0107187-ad09-4c81-8ea5-06a61a387e3b",
   "metadata": {},
   "outputs": [
    {
     "name": "stdout",
     "output_type": "stream",
     "text": [
      "Data Science Masters course is highly curated and uniquely designed according to the latest industry standards.\n",
      " This program instills students the skills essential to knowledge discovery efforts to identify standard, novel, and truly \n",
      " differentiated solutions and decision-making, including skills in managing, querying, analyzing, visualizing, and extracting meaning from extremely \n",
      " large data sets. This trending program provides students with the statistical, mathematical and computational skills needed to meet the large-scale data science challenges of today's professional world.\n",
      " You will learn all the stack required to work in data science industry including cloud infrastructure and real-time industry projects.\n",
      " This course will be taught in Hindi language.\n",
      "\n",
      "\n",
      "Data Science Masters course is highly curated and uniquely designed according to the latest industry standards.\n",
      "\n",
      "\n",
      "\n",
      "['Data Science Masters course is highly curated and uniquely designed according to the latest industry standards.\\n', ' This program instills students the skills essential to knowledge discovery efforts to identify standard, novel, and truly \\n', ' differentiated solutions and decision-making, including skills in managing, querying, analyzing, visualizing, and extracting meaning from extremely \\n', \" large data sets. This trending program provides students with the statistical, mathematical and computational skills needed to meet the large-scale data science challenges of today's professional world.\\n\", ' You will learn all the stack required to work in data science industry including cloud infrastructure and real-time industry projects.\\n', ' This course will be taught in Hindi language.']\n"
     ]
    }
   ],
   "source": [
    "\"\"\"Q4. Explain the following with python code: read(), readline() and readlines().\"\"\"\n",
    "# read(): Returns the read bytes in form of a string. Reads n bytes, if no n specified, reads the entire file.\n",
    "\n",
    "#readline() : Reads a line of the file and returns in form of a string.For specified n, reads at most n bytes.\n",
    "#However, does not reads more than one line, even if n exceeds the length of the line.\n",
    "\n",
    "#readlines() : Reads all the lines and return them as each line a string element in a list.\n",
    "\n",
    "f=open(\"example.txt\",\"w\")\n",
    "f.writelines(\"Data Science Masters course is highly curated and uniquely designed according to the latest industry standards.\\n This program instills students the skills essential to knowledge discovery efforts to identify standard, novel, and truly \\n differentiated solutions and decision-making, including skills in managing, querying, analyzing, visualizing, and extracting meaning from extremely \\n large data sets. This trending program provides students with the statistical, mathematical and computational skills needed to meet the large-scale data science challenges of today's professional world.\\n You will learn all the stack required to work in data science industry including cloud infrastructure and real-time industry projects.\\n This course will be taught in Hindi language.\")\n",
    "f.close()\n",
    "ff=open(\"example.txt\",\"r\")\n",
    "print(ff.read())\n",
    "print(\"\\n\")\n",
    "ff.seek(0)\n",
    "print(ff.readline())\n",
    "print(\"\\n\")\n",
    "ff.seek(0)\n",
    "print(ff.readlines())\n",
    "f.close()\n"
   ]
  },
  {
   "cell_type": "code",
   "execution_count": null,
   "id": "77b25b13-f87f-4750-8707-5bfca3310b29",
   "metadata": {},
   "outputs": [],
   "source": [
    "\"\"\"Q5. Explain why with statement is used with open(). What is the advantage of using with statement and\n",
    "open() together?\"\"\"\n",
    "# with statement is used with open() beacause the with statement closes the file for you without you telling it to.\n",
    "# The advantage is :The with statement simplifies exception handling by encapsulating common preparation and cleanup tasks.\n",
    "# with statement helps avoiding bugs and leaks by ensuring that a resource is properly released when the code using the resources like  like file streams.\n",
    "\n"
   ]
  },
  {
   "cell_type": "code",
   "execution_count": 106,
   "id": "af886e4d-b1e5-4ec6-9496-cc8f7623c5e2",
   "metadata": {},
   "outputs": [
    {
     "name": "stdout",
     "output_type": "stream",
     "text": [
      "Hello \n",
      "This is Delhi \n",
      "This is Paris \n",
      "This is London \n",
      "\n"
     ]
    }
   ],
   "source": [
    "\"\"\"Q6. Explain the write() and writelines() functions. Give a suitable example.\"\"\"\n",
    "# write() : Inserts the string string in a single line in the text file.\n",
    "# writelines() : For a list of string elements, each string is inserted in the text file.Used to insert multiple strings at a single time.\n",
    "\n",
    "\n",
    "file1 = open(\"myfile.txt\",\"w\")\n",
    "L = [\"This is Delhi \\n\",\"This is Paris \\n\",\"This is London \\n\"]\n",
    " \n",
    "# \\n is placed to indicate EOL (End of Line)\n",
    "file1.write(\"Hello \\n\")\n",
    "file1.writelines(L)\n",
    "file1.close()  \n",
    "file1=open(\"myfile.txt\",\"r\")\n",
    "print(file1.read())"
   ]
  },
  {
   "cell_type": "code",
   "execution_count": null,
   "id": "33c36bd4-1626-43ec-a4ed-ee23ab943f0c",
   "metadata": {},
   "outputs": [],
   "source": []
  }
 ],
 "metadata": {
  "kernelspec": {
   "display_name": "Python 3 (ipykernel)",
   "language": "python",
   "name": "python3"
  },
  "language_info": {
   "codemirror_mode": {
    "name": "ipython",
    "version": 3
   },
   "file_extension": ".py",
   "mimetype": "text/x-python",
   "name": "python",
   "nbconvert_exporter": "python",
   "pygments_lexer": "ipython3",
   "version": "3.10.8"
  }
 },
 "nbformat": 4,
 "nbformat_minor": 5
}
