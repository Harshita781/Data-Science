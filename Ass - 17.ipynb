{
  "nbformat": 4,
  "nbformat_minor": 0,
  "metadata": {
    "colab": {
      "provenance": []
    },
    "kernelspec": {
      "name": "python3",
      "display_name": "Python 3"
    },
    "language_info": {
      "name": "python"
    }
  },
  "cells": [
    {
      "cell_type": "code",
      "execution_count": 3,
      "metadata": {
        "colab": {
          "base_uri": "https://localhost:8080/"
        },
        "id": "jSJyc4PaAjPb",
        "outputId": "b952e70d-7681-47df-d938-179c87537ed0"
      },
      "outputs": [
        {
          "output_type": "stream",
          "name": "stdout",
          "text": [
            "0     4\n",
            "1    18\n",
            "2    15\n",
            "3    16\n",
            "4    23\n",
            "5    42\n",
            "dtype: int64\n"
          ]
        }
      ],
      "source": [
        "# Q1. Create a Pandas Series that contains the following data: 4, 8, 15, 16, 23, and 42. Then, print the series.\n",
        "import pandas as pd\n",
        "s = pd.Series([4,18,15,16,23,42])\n",
        "print(s)"
      ]
    },
    {
      "cell_type": "code",
      "source": [
        "# Q2. Create a variable of list type containing 10 elements in it, and apply pandas.Series function on the variable print it.\n",
        "import pandas as pd\n",
        "li=[2,4,5,1,78,12,88,15,22,34]\n",
        "s2 = pd.Series(li)\n",
        "print(s2)"
      ],
      "metadata": {
        "colab": {
          "base_uri": "https://localhost:8080/"
        },
        "id": "arYt4_ZrAqid",
        "outputId": "94af93ef-573e-420a-9947-58d1bde99ef8"
      },
      "execution_count": 7,
      "outputs": [
        {
          "output_type": "stream",
          "name": "stdout",
          "text": [
            "0     2\n",
            "1     4\n",
            "2     5\n",
            "3     1\n",
            "4    78\n",
            "5    12\n",
            "6    88\n",
            "7    15\n",
            "8    22\n",
            "9    34\n",
            "dtype: int64\n"
          ]
        }
      ]
    },
    {
      "cell_type": "code",
      "source": [
        "# Q3. Create a Pandas DataFrame that contains the following data:\n",
        "import pandas as pd\n",
        "df= pd.DataFrame([[\"Alice\",25,\"Female\"],[\"Bob\",30,\"Male\"],[\"Clair\",27,\"Female\"]], columns=[\"Name\",\"Age\",\"Gender\"])\n",
        "print(df)"
      ],
      "metadata": {
        "colab": {
          "base_uri": "https://localhost:8080/"
        },
        "id": "kCC-weFzCfSO",
        "outputId": "97f6e35b-f651-408d-edb1-1f1fef598df5"
      },
      "execution_count": 10,
      "outputs": [
        {
          "output_type": "stream",
          "name": "stdout",
          "text": [
            "    Name  Age  Gender\n",
            "0  Alice   25  Female\n",
            "1    Bob   30    Male\n",
            "2  Clair   27  Female\n"
          ]
        }
      ]
    },
    {
      "cell_type": "markdown",
      "source": [
        "Q4. What is ‘DataFrame’ in pandas and how is it different from pandas.series? Explain with an example.\n",
        "\n",
        "Ans:  a DataFrame is a 2-dimensional data structure designed for handling tabular data with multiple columns, while a Series is a 1-dimensional data structure used to represent a single column or row of data within a DataFrame or as a standalone data structure."
      ],
      "metadata": {
        "id": "2oCRGzIXEwOE"
      }
    },
    {
      "cell_type": "markdown",
      "source": [
        "Q5. What are some common functions you can use to manipulate data in a Pandas DataFrame? Canyou give an example of when you might use one of these functions?\n",
        "\n",
        "Ans: Here are some of the most common Pandas data manipulation tasks: Data selection: Pandas provides a variety of functions for selecting data, such as read(), head(), tail(),describe(), and loc(). These functions allow you to select specific rows, columns, or subsets of data from a DataFrame.\n",
        "\n",
        "1. read_csv() function helps read a comma-separated values (csv) file into a Pandas DataFrame.\n",
        "\n",
        "2. head(n) is used to return the first n rows of a dataset. By default, df.head() will return the first 5 rows of the DataFrame.\n",
        "\n",
        "3. tail() is used to return the last n rows of a dataset, By default, df,tail() will return the last 5 rows of the DataFrame.\n",
        "\n",
        "4. describe() is used to generate descriptive statistics of the data in a Pandas DataFrame or Series. It summarizes central tendency and dispersion of the dataset.\n",
        "\n",
        "5. loc() helps to access a group of rows and columns in a dataset, a slice of the dataset, as per our requirement."
      ],
      "metadata": {
        "id": "n-H4rLr3FLdt"
      }
    },
    {
      "cell_type": "markdown",
      "source": [
        "Q6. Which of the following is mutable in nature Series, DataFrame, Panel?\n",
        "\n",
        "Ans: All Pandas data structures are value mutable (can be changed) and except Series all are size mutable. Series is size immutable"
      ],
      "metadata": {
        "id": "Krr4LMqGIK9e"
      }
    },
    {
      "cell_type": "code",
      "source": [
        "# Q7. Create a DataFrame using multiple Series. Explain with an example.\n",
        "# Importing Pandas library\n",
        "import pandas as pd\n",
        "\n",
        "# Creating two lists\n",
        "author = ['Jitender', 'Purnima',\n",
        "\t\t'Arpit', 'Jyoti']\n",
        "article = [210, 211, 114, 178]\n",
        "\n",
        "# Creating two Series by passing lists\n",
        "auth_series = pd.Series(author)\n",
        "article_series = pd.Series(article)\n",
        "\n",
        "# Creating a dictionary by passing Series objects as values\n",
        "frame = {'Author': auth_series,\n",
        "\t\t'Article': article_series}\n",
        "\n",
        "# Creating DataFrame by passing Dictionary\n",
        "result = pd.DataFrame(frame)\n",
        "\n",
        "# Printing elements of Dataframe\n",
        "print(result)\n"
      ],
      "metadata": {
        "colab": {
          "base_uri": "https://localhost:8080/"
        },
        "id": "3xb3tZwkIXtL",
        "outputId": "c01e0813-472f-4845-db32-8eeef232b3d6"
      },
      "execution_count": 11,
      "outputs": [
        {
          "output_type": "stream",
          "name": "stdout",
          "text": [
            "     Author  Article\n",
            "0  Jitender      210\n",
            "1   Purnima      211\n",
            "2     Arpit      114\n",
            "3     Jyoti      178\n"
          ]
        }
      ]
    }
  ]
}