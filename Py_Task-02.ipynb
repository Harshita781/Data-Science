{
 "cells": [
  {
   "cell_type": "code",
   "execution_count": null,
   "id": "e098e798-efc3-4880-9baf-41764c6efb26",
   "metadata": {},
   "outputs": [],
   "source": [
    "\"\"\"Q1. You are writing code for a company. The requirement of the company is that you create a python\n",
    "function that will check whether the password entered by the user is correct or not. The function should\n",
    "take the password as input and return the string “Valid Password” if the entered password follows the\n",
    "below-given password guidelines else it should return “Invalid Password”.\n",
    "\n",
    "Note: 1. The Password should contain at least two uppercase letters and at least two lowercase letters.\n",
    "2. The Password should contain at least a number and three special characters.\n",
    "3. The length of the password should be 10 characters long.\"\"\"\n",
    "\n",
    "up=0\n",
    "lo=0\n",
    "di=0\n",
    "sp=0\n",
    "str=input(\"Enter your password: \")\n",
    "if len(str)==10:\n",
    "    for i in str:\n",
    "        if i.islower():\n",
    "            lo+=1\n",
    "        if i.isupper():\n",
    "            up+=1\n",
    "        if i.isdigit():\n",
    "            di+=1\n",
    "        if i=='@' or i=='$' or i=='&':\n",
    "            sp+=1\n",
    "            \n",
    "if (lo>=2 and up>=2 and sp>=3 and di>=1 and lo+up+sp+di==len(str)):\n",
    "    print(\"Valid Password\")\n",
    "else:\n",
    "    print(\"Invalid Password\")"
   ]
  },
  {
   "cell_type": "markdown",
   "id": "39a3ff02-cf23-4bd4-92e0-089ec3bfdab6",
   "metadata": {},
   "source": [
    "Q2. Solve the below-given questions using at least one of the following:\n",
    "1. Lambda functioJ\n",
    "2. Filter functioJ\n",
    "3. Zap functioJ\n",
    "4. List Comprehension"
   ]
  },
  {
   "cell_type": "code",
   "execution_count": 19,
   "id": "d59418c5-7033-4e9b-84a2-1d70b7e243d0",
   "metadata": {},
   "outputs": [
    {
     "name": "stdin",
     "output_type": "stream",
     "text": [
      "Enter a string started with T:  Trses\n"
     ]
    },
    {
     "name": "stdout",
     "output_type": "stream",
     "text": [
      "Trses is started with T\n"
     ]
    }
   ],
   "source": [
    "# Check if the string starts with a particular letter\n",
    "str=input(\"Enter a string started with T: \")\n",
    "result = lambda str : f\"{str} is started with T\" if str[0]=='T' else f\"{str} not started with T\"\n",
    "print(result(str))"
   ]
  },
  {
   "cell_type": "code",
   "execution_count": 21,
   "id": "2d3bc6e3-bc6a-45be-b72f-da97c9f5b7fa",
   "metadata": {},
   "outputs": [
    {
     "name": "stdin",
     "output_type": "stream",
     "text": [
      "Enter string:  gdhdj\n"
     ]
    },
    {
     "name": "stdout",
     "output_type": "stream",
     "text": [
      "gdhdj is not numeric\n"
     ]
    }
   ],
   "source": [
    "#Check if the string is numeric\n",
    "str=input(\"Enter string: \")\n",
    "result = lambda str : f\"{str} is numeric\" if str.isnumeric() else f\"{str} is not numeric\"\n",
    "print(result(str))"
   ]
  },
  {
   "cell_type": "code",
   "execution_count": 22,
   "id": "c450bf1e-1cf2-4eb6-a978-32cc2005b73a",
   "metadata": {},
   "outputs": [
    {
     "name": "stdout",
     "output_type": "stream",
     "text": [
      "[('orange', 80), ('mango', 99), ('grapes', 1000)]\n"
     ]
    }
   ],
   "source": [
    "#Sort a list of tuples having fruit names and their quantity. [(\"mango\",99),(\"orange\",80), (\"grapes\", 1000)]\n",
    "li=[(\"mango\",99),(\"orange\",80), (\"grapes\", 1000)]\n",
    "li.sort(key=lambda x:x[1])\n",
    "print(li)"
   ]
  },
  {
   "cell_type": "code",
   "execution_count": 9,
   "id": "e65a27ba-d919-43a7-b7b7-7b9ada73029f",
   "metadata": {},
   "outputs": [
    {
     "name": "stdout",
     "output_type": "stream",
     "text": [
      "[1, 4, 9, 16, 25, 36, 49, 64, 81, 100]\n"
     ]
    }
   ],
   "source": [
    "#Find the squares of numbers from 1 to 10.\n",
    "sq_list = [y**2 for y in range(1,11)]\n",
    "print(sq_list)\n"
   ]
  },
  {
   "cell_type": "code",
   "execution_count": 10,
   "id": "70b3ef43-b854-4ad9-af69-373b7746f923",
   "metadata": {},
   "outputs": [
    {
     "name": "stdout",
     "output_type": "stream",
     "text": [
      "[1, 8, 27, 64, 125, 216, 343, 512, 729, 1000]\n"
     ]
    }
   ],
   "source": [
    "#Find the cube root of numbers from 1 to 10.\n",
    "cube_list = [y**3 for y in range(1,11)]\n",
    "print(cube_list)\n"
   ]
  },
  {
   "cell_type": "code",
   "execution_count": 17,
   "id": "56602c2b-2246-426e-bc37-e3371812de5a",
   "metadata": {},
   "outputs": [
    {
     "name": "stdin",
     "output_type": "stream",
     "text": [
      "Enter a number:  12\n"
     ]
    },
    {
     "name": "stdout",
     "output_type": "stream",
     "text": [
      "12 is even\n"
     ]
    }
   ],
   "source": [
    "#Check if a given number is even.\n",
    "x=int(input(\"Enter a number: \"))\n",
    "result=result = lambda x : f\"{x} is even\" if x%2==0 else f\"{x} not even\"\n",
    "print(result(x))"
   ]
  },
  {
   "cell_type": "code",
   "execution_count": 19,
   "id": "96d2faa4-45c9-4d78-a66e-446c964a5b90",
   "metadata": {},
   "outputs": [
    {
     "data": {
      "text/plain": [
       "[1, 3, 5, 7, 9]"
      ]
     },
     "execution_count": 19,
     "metadata": {},
     "output_type": "execute_result"
    }
   ],
   "source": [
    "#Filter odd numbers from the given list.\n",
    "l1=[1,2,3,4,5,6,7,8,9,10]\n",
    "list(filter(lambda x: x%2!=0,l1))"
   ]
  },
  {
   "cell_type": "code",
   "execution_count": 23,
   "id": "6476be2a-f821-42ad-a0e1-ec9a6fb726da",
   "metadata": {},
   "outputs": [
    {
     "ename": "NameError",
     "evalue": "name 'test_list' is not defined",
     "output_type": "error",
     "traceback": [
      "\u001b[0;31m---------------------------------------------------------------------------\u001b[0m",
      "\u001b[0;31mNameError\u001b[0m                                 Traceback (most recent call last)",
      "Cell \u001b[0;32mIn[23], line 3\u001b[0m\n\u001b[1;32m      1\u001b[0m \u001b[38;5;66;03m#Sort a list of integers into positive and negative integers lists.\u001b[39;00m\n\u001b[1;32m      2\u001b[0m l2\u001b[38;5;241m=\u001b[39m[\u001b[38;5;241m1\u001b[39m,\u001b[38;5;241m2\u001b[39m,\u001b[38;5;241m3\u001b[39m,\u001b[38;5;241m4\u001b[39m,\u001b[38;5;241m5\u001b[39m,\u001b[38;5;241m6\u001b[39m,\u001b[38;5;241m-\u001b[39m\u001b[38;5;241m1\u001b[39m,\u001b[38;5;241m-\u001b[39m\u001b[38;5;241m2\u001b[39m,\u001b[38;5;241m-\u001b[39m\u001b[38;5;241m3\u001b[39m,\u001b[38;5;241m-\u001b[39m\u001b[38;5;241m4\u001b[39m,\u001b[38;5;241m-\u001b[39m\u001b[38;5;241m5\u001b[39m,\u001b[38;5;241m0\u001b[39m]\n\u001b[0;32m----> 3\u001b[0m res \u001b[38;5;241m=\u001b[39m \u001b[38;5;28msorted\u001b[39m(\u001b[43mtest_list\u001b[49m, key \u001b[38;5;241m=\u001b[39m \u001b[38;5;28;01mlambda\u001b[39;00m i: \u001b[38;5;241m0\u001b[39m \u001b[38;5;28;01mif\u001b[39;00m i \u001b[38;5;241m==\u001b[39m \u001b[38;5;241m0\u001b[39m \u001b[38;5;28;01melse\u001b[39;00m \u001b[38;5;241m-\u001b[39m\u001b[38;5;241m1\u001b[39m \u001b[38;5;241m/\u001b[39m i)\n\u001b[1;32m      4\u001b[0m \u001b[38;5;28mprint\u001b[39m(res)\n",
      "\u001b[0;31mNameError\u001b[0m: name 'test_list' is not defined"
     ]
    }
   ],
   "source": [
    "#Sort a list of integers into positive and negative integers lists.\n",
    "l2=[1,2,3,4,5,6,-1,-2,-3,-4,-5,0]\n",
    "res = sorted(test_list, key = lambda i: 0 if i == 0 else -1 / i)\n",
    "print(res)"
   ]
  },
  {
   "cell_type": "code",
   "execution_count": null,
   "id": "a0fbd855-19a4-4ea0-b877-960f30038325",
   "metadata": {},
   "outputs": [],
   "source": []
  }
 ],
 "metadata": {
  "kernelspec": {
   "display_name": "Python 3 (ipykernel)",
   "language": "python",
   "name": "python3"
  },
  "language_info": {
   "codemirror_mode": {
    "name": "ipython",
    "version": 3
   },
   "file_extension": ".py",
   "mimetype": "text/x-python",
   "name": "python",
   "nbconvert_exporter": "python",
   "pygments_lexer": "ipython3",
   "version": "3.10.8"
  }
 },
 "nbformat": 4,
 "nbformat_minor": 5
}
