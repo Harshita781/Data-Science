{
 "cells": [
  {
   "cell_type": "markdown",
   "id": "03556fbb-074d-40c8-b444-bdf16f486aae",
   "metadata": {},
   "source": [
    "Q1. What is Abstraction in OOps? Explain with an example.\n",
    "Ans- A process of handling complexity by hiding information from the user.\n"
   ]
  },
  {
   "cell_type": "code",
   "execution_count": 1,
   "id": "4cd6bd97-8da1-4bed-bc21-1ef229d3ab62",
   "metadata": {},
   "outputs": [
    {
     "data": {
      "text/plain": [
       "'this will return student details for data science masters'"
      ]
     },
     "execution_count": 1,
     "metadata": {},
     "output_type": "execute_result"
    }
   ],
   "source": [
    "import abc\n",
    "class pwskills:\n",
    "  @abc.abstractmethod\n",
    "  def student_details(self):\n",
    "    pass\n",
    "  @abc.abstractmethod\n",
    "  def student_assignments(self):\n",
    "    pass\n",
    "  @abc.abstractmethod\n",
    "  def student_marks(self):\n",
    "    pass\n",
    " \n",
    "\n",
    "class student_detail(pwskills):\n",
    "  def student_details(self):\n",
    "    return \"this is method for taking student details\"\n",
    "  \n",
    "  def student_assignments(self):\n",
    "    return \"this is method for assignment details of a particular student\"\n",
    "\n",
    "class data_science_masters(pwskills):\n",
    "  def student_details(self):\n",
    "    return \"this will return student details for data science masters\"\n",
    "  \n",
    "  def student_assignments(self):\n",
    "    return \"this will give a assignment details of a particular student\"\n",
    "\n",
    "dsm=data_science_masters()\n",
    "dsm.student_details()"
   ]
  },
  {
   "cell_type": "code",
   "execution_count": 2,
   "id": "e5b2f6dc-27dd-4971-8fae-e553db1bcdfd",
   "metadata": {},
   "outputs": [
    {
     "data": {
      "text/plain": [
       "'this is method for taking student details'"
      ]
     },
     "execution_count": 2,
     "metadata": {},
     "output_type": "execute_result"
    }
   ],
   "source": [
    "sd=student_detail()\n",
    "sd.student_details()"
   ]
  },
  {
   "cell_type": "markdown",
   "id": "ab081028-9b56-479c-bfac-4ba6a653ebe4",
   "metadata": {},
   "source": [
    "Q2. Differentiate between Abstraction and Encapsulation. Explain with an example.\n",
    "ABstraction: Abstraction is a way of representing some specific data.\n",
    "Encapsulation: Encapsulation is a way of hiding the complexity of something and exposing only the parts you wish to expose. \n"
   ]
  },
  {
   "cell_type": "code",
   "execution_count": 11,
   "id": "9b81f062-2fe3-452d-846f-a15304a8064d",
   "metadata": {},
   "outputs": [
    {
     "name": "stdout",
     "output_type": "stream",
     "text": [
      "Feeding a lion with antelope meat! At 10:10 AM\n",
      "Feeding a snake with frog meat! At 10:20 AM\n"
     ]
    }
   ],
   "source": [
    "#Abstraction\n",
    "from abc import ABC, abstractmethod\n",
    "\n",
    "class Animal(ABC):\n",
    "    @property                 \n",
    "    def food_eaten(self):     \n",
    "        return self._food\n",
    "\n",
    "    @food_eaten.setter\n",
    "    def food_eaten(self, food):\n",
    "        if food in self.diet:\n",
    "            self._food = food\n",
    "        else:\n",
    "            raise ValueError(f\"You can't feed this animal with {food}.\")\n",
    "\n",
    "    @property\n",
    "    @abstractmethod\n",
    "    def diet(self):\n",
    "        pass\n",
    "\n",
    "    @abstractmethod \n",
    "    def feed(self, time):\n",
    "        pass\n",
    "\n",
    "class Lion(Animal):\n",
    "    @property                 \n",
    "    def diet(self):     \n",
    "        return [\"antelope\", \"cheetah\", \"buffaloe\"]\n",
    "\n",
    "    def feed(self, time):\n",
    "        print(f\"Feeding a lion with {self._food} meat! At {time}\") \n",
    "\n",
    "class Snake(Animal):\n",
    "    @property                 \n",
    "    def diet(self):     \n",
    "        return [\"frog\", \"rabbit\"]\n",
    "\n",
    "    def feed(self, time): \n",
    "        print(f\"Feeding a snake with {self._food} meat! At {time}\") \n",
    "leo = Lion()\n",
    "leo.food_eaten = \"antelope\" \n",
    "leo.feed(\"10:10 AM\")\n",
    "adam = Snake()\n",
    "adam.food_eaten = \"frog\"\n",
    "adam.feed(\"10:20 AM\")"
   ]
  },
  {
   "cell_type": "code",
   "execution_count": 8,
   "id": "0fe82fd2-3dc1-4177-8650-0a2c9635562d",
   "metadata": {},
   "outputs": [
    {
     "data": {
      "text/plain": [
       "2000"
      ]
     },
     "execution_count": 8,
     "metadata": {},
     "output_type": "execute_result"
    }
   ],
   "source": [
    "#Encapsulation\n",
    "class bank_account:\n",
    "    def __init__(self,balance):\n",
    "        self.__balance=balance\n",
    "    def deposite(self,amount):\n",
    "        self.__balance=self.__balance+amount\n",
    "    def withdraw(self,amount):\n",
    "        if self.__balance>=amount:\n",
    "            self.__balace=self.__balance=amount\n",
    "            return True\n",
    "        else:\n",
    "            return False\n",
    "    def get_balance(self):\n",
    "        return self.__balance\n",
    "sudh=bank_account(1000)\n",
    "sudh.get_balance()\n",
    "sudh.deposite(5000)\n",
    "sudh.get_balance()\n",
    "sudh.withdraw(2000)\n",
    "sudh.get_balance()"
   ]
  },
  {
   "cell_type": "markdown",
   "id": "adda771b-7e86-43fe-bc3e-2af58b2977a1",
   "metadata": {},
   "source": [
    "Q3. What is abc module in python? Why is it used?\n",
    "Ans-  It offers the necessary tools for crafting an abstract base class.\n",
    "      This module provides the infrastructure for defining abstract base classes (ABCs) in Python."
   ]
  },
  {
   "cell_type": "markdown",
   "id": "a9e440e1-566f-4286-b509-c722f14f0c62",
   "metadata": {},
   "source": [
    "Q4. How can we achieve data abstraction?\n",
    "Ans- In Python, abstraction can be achieved by using abstract classes and interfaces. "
   ]
  },
  {
   "cell_type": "markdown",
   "id": "42a8c231-750b-425f-ac8b-c9b1c85963f0",
   "metadata": {},
   "source": [
    "Q5. Can we create an instance of an abstract class? Explain your answer.\n",
    "Ans- No, we can't create an object of an abstract class. But we can create a reference variable of an abstract class. The reference variable is used to refer to the objects of derived classes."
   ]
  }
 ],
 "metadata": {
  "kernelspec": {
   "display_name": "Python 3 (ipykernel)",
   "language": "python",
   "name": "python3"
  },
  "language_info": {
   "codemirror_mode": {
    "name": "ipython",
    "version": 3
   },
   "file_extension": ".py",
   "mimetype": "text/x-python",
   "name": "python",
   "nbconvert_exporter": "python",
   "pygments_lexer": "ipython3",
   "version": "3.10.8"
  }
 },
 "nbformat": 4,
 "nbformat_minor": 5
}
