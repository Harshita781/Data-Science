{
 "cells": [
  {
   "cell_type": "markdown",
   "id": "b1d04481-4982-4276-b314-4c3956da9e4e",
   "metadata": {},
   "source": [
    "Q.1 What is multithreading in python? Why is it used? Name the module used to handle threads in python.\n",
    "Ans-Multithreading is defined as the ability of a processor to execute multiple threads concurrently.\n",
    "It is used to run multiple threads concurrently by rapidly switching between threads with a CPU help.\n",
    "Threading module is used to handle threads in python."
   ]
  },
  {
   "cell_type": "markdown",
   "id": "51fcb913-03dc-43e6-bcfc-9e9a12059d5c",
   "metadata": {},
   "source": [
    "Q.2 Why threading module used? Write the use of the following functions\n",
    "1. activeCount()\n",
    "2. currentThread()\n",
    "3. enumerate()\n",
    "Ans- Threading module provides us classes and methods to create and start threads in python for implementing multithreading.\n",
    "1. activeCount(): It is used to count the currently active or running threads.\n",
    "2. currentThread(): used to return the current Thread object, which corresponds to the caller's thread of control. \n",
    "3.  enumerate(): It allows you to keep track of the number of iterations (loops) in a loop. "
   ]
  },
  {
   "cell_type": "markdown",
   "id": "b125d4bd-2e3e-4d0e-83f9-56d1c53600b2",
   "metadata": {},
   "source": [
    "3. Explain the following functions\n",
    "1. run()\n",
    "2. start()\n",
    "3. join()\n",
    "4. isAlive()\n",
    "Ans-\n",
    "1. run(): It is an inbuilt method of the Thread class of the threading module in Python.\n",
    "2. start(): Once a thread object is created, its activity must be started by calling the thread's start() method.\n",
    "3. join(): The join() method delays a program's flow of execution until the target thread has been completely read.\n",
    "4. isAlive(): It is an inbuilt method of the Thread class of the threading module in Python."
   ]
  },
  {
   "cell_type": "markdown",
   "id": "b3b4b15d-87e0-4cc6-8617-88dfd978b22d",
   "metadata": {},
   "source": [
    "Q.4. Write a python program to create two threads. Thread one must print the list of squares and thread\n",
    "two must print the list of cubes.\n"
   ]
  },
  {
   "cell_type": "code",
   "execution_count": 3,
   "id": "b37e41be-f193-4038-831d-e46012863c9f",
   "metadata": {},
   "outputs": [
    {
     "name": "stdout",
     "output_type": "stream",
     "text": [
      " Calculate the square root of the given number\n",
      " Square is :  16\n",
      " Square is :  25\n",
      " Square is :  36\n",
      " Square is :  49\n",
      " Square is :  4\n",
      " Calculate the cube of  the given number\n",
      " Cube is :  64\n",
      " Cube is :  125\n",
      " Cube is :  216\n",
      " Cube is :  343\n",
      " Cube is :  8\n",
      " Total time taken by threads is : 3.0046474933624268\n"
     ]
    }
   ],
   "source": [
    "import threading \n",
    "import time \n",
    "  \n",
    "def cal_sqre(num):   \n",
    "    print(\" Calculate the square root of the given number\")  \n",
    "    for n in num:   \n",
    "        time.sleep(0.3) \n",
    "        print(' Square is : ', n * n)  \n",
    "  \n",
    "def cal_cube(num):\n",
    "    print(\" Calculate the cube of  the given number\")  \n",
    "    for n in num:   \n",
    "        time.sleep(0.3)  \n",
    "        print(\" Cube is : \", n * n *n)  \n",
    "  \n",
    "li = [4, 5, 6, 7, 2] \n",
    "t1 = time.time()   \n",
    "cal_sqre(li)  \n",
    "cal_cube(li) \n",
    "  \n",
    "print(\" Total time taken by threads is :\", time.time() - t1) "
   ]
  },
  {
   "cell_type": "markdown",
   "id": "9a38605f-83fb-4948-853f-e92982d508b0",
   "metadata": {},
   "source": [
    "Q.5 State advantages and disadvantages of multithreading.\n",
    "Ans- Advantages:\n",
    "1. Enhanced performance by decreased development time\n",
    "2. Simplified and streamlined program coding\n",
    "3. Improvised GUI responsiveness\n",
    "4. Simultaneous and parallelized occurrence of tasks\n",
    "5. Better use of cache storage by utilization of resources\n",
    "6. Decreased cost of maintenance\n",
    "7. Better use of CPU resource\n",
    "\n",
    "Disadvantages:\n",
    "1. Complex debugging and testing processes\n",
    "2. Overhead switching of context\n",
    "3. Increased potential for deadlock occurrence\n",
    "4. Increased difficulty level in writing a program\n",
    "5. Unpredictable results"
   ]
  },
  {
   "cell_type": "markdown",
   "id": "b5f6fef2-d78f-44bb-9888-ff6efb22044b",
   "metadata": {},
   "source": [
    "Q.6 Explain deadlocks and race conditions.\n",
    "Ans- Deadlocks: A deadlock is a concurrency failure mode where a thread or threads wait for a condition that never occurs.\n",
    "The result is that the deadlock threads are unable to progress and the program is stuck or frozen and must be terminated forcefully.\n",
    "\n",
    "Race conditions:Race conditions occur when two threads interact in a negatve (buggy) way depending on the exact order that their different instructions are executed."
   ]
  }
 ],
 "metadata": {
  "kernelspec": {
   "display_name": "Python 3 (ipykernel)",
   "language": "python",
   "name": "python3"
  },
  "language_info": {
   "codemirror_mode": {
    "name": "ipython",
    "version": 3
   },
   "file_extension": ".py",
   "mimetype": "text/x-python",
   "name": "python",
   "nbconvert_exporter": "python",
   "pygments_lexer": "ipython3",
   "version": "3.10.8"
  }
 },
 "nbformat": 4,
 "nbformat_minor": 5
}
