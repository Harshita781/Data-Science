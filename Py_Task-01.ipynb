{
 "cells": [
  {
   "cell_type": "code",
   "execution_count": 6,
   "id": "28088127-793b-40d8-b97d-c4d0fabaf62f",
   "metadata": {},
   "outputs": [
    {
     "ename": "TypeError",
     "evalue": "cannot unpack non-iterable int object",
     "output_type": "error",
     "traceback": [
      "\u001b[0;31m---------------------------------------------------------------------------\u001b[0m",
      "\u001b[0;31mTypeError\u001b[0m                                 Traceback (most recent call last)",
      "Cell \u001b[0;32mIn[6], line 28\u001b[0m\n\u001b[1;32m     26\u001b[0m             li\u001b[38;5;241m.\u001b[39mappend(element)\n\u001b[1;32m     27\u001b[0m     \u001b[38;5;28mprint\u001b[39m(li)\n\u001b[0;32m---> 28\u001b[0m \u001b[43mmyfunc\u001b[49m\u001b[43m(\u001b[49m\u001b[43mlist1\u001b[49m\u001b[43m)\u001b[49m\n",
      "Cell \u001b[0;32mIn[6], line 20\u001b[0m, in \u001b[0;36mmyfunc\u001b[0;34m(list1)\u001b[0m\n\u001b[1;32m     18\u001b[0m         li\u001b[38;5;241m.\u001b[39mappend(item)\n\u001b[1;32m     19\u001b[0m \u001b[38;5;28;01melif\u001b[39;00m \u001b[38;5;28mtype\u001b[39m(element) \u001b[38;5;129;01mis\u001b[39;00m \u001b[38;5;28mdict\u001b[39m:\n\u001b[0;32m---> 20\u001b[0m     \u001b[38;5;28;01mfor\u001b[39;00m key,value \u001b[38;5;129;01min\u001b[39;00m element:\n\u001b[1;32m     21\u001b[0m         li\u001b[38;5;241m.\u001b[39mappend(value)\n\u001b[1;32m     22\u001b[0m \u001b[38;5;28;01melif\u001b[39;00m \u001b[38;5;28mtype\u001b[39m(element) \u001b[38;5;129;01mis\u001b[39;00m \u001b[38;5;28mset\u001b[39m:\n",
      "\u001b[0;31mTypeError\u001b[0m: cannot unpack non-iterable int object"
     ]
    }
   ],
   "source": [
    "\"\"\"Q1. Create a function which will take a list as an argument and return the product of all the numbers\n",
    "after creating a flat list.\n",
    "Use the below-given list as an argument for your function.\n",
    "list1 = [1,2,3,4, [44,55,66, True], False, (34,56,78,89,34), {1,2,3,3,2,1}, {1:34, \"key2\": [55, 67, 78, 89], 4: (45,\n",
    "22, 61, 34)}, [56, 'data science'], 'Machine Learning']\"\"\"\n",
    "from collections.abc import MutableMapping\n",
    "list1 = [1,2,3,4, [44,55,66, True], False, (34,56,78,89,34), {1,2,3,3,2,1}, {1:34, \"key2\": [55, 67, 78, 89], 4: (45,\n",
    "22, 61, 34)}, [56, 'data science'], 'Machine Learning']\n",
    "\n",
    "def myfunc(list1):\n",
    "    li=[]\n",
    "    for element in list1:\n",
    "        if type(element) is list:\n",
    "            for item in element:\n",
    "                li.append(item)\n",
    "        elif type(element) is tuple:\n",
    "            for item in element:\n",
    "                li.append(item)\n",
    "        elif type(element) is dict:\n",
    "            for k, v in d.items():\n",
    "                new_key = parent_key + sep + k if parent_key else k\n",
    "                if isinstance(v, MutableMapping):\n",
    "                    items.extend(flatten_dict(v, new_key, sep=sep).items())\n",
    "                else:\n",
    "                    items.append((new_key, v))\n",
    "        elif type(element) is set:\n",
    "            for item in element:\n",
    "                li.append(item)\n",
    "        else:\n",
    "            li.append(element)\n",
    "    print(li)\n",
    "myfunc(list1)"
   ]
  },
  {
   "cell_type": "code",
   "execution_count": 22,
   "id": "915dd963-56e8-4429-8929-d3a7fea43def",
   "metadata": {},
   "outputs": [
    {
     "name": "stdout",
     "output_type": "stream",
     "text": [
      "i#wznt#to#yezome#z#dztz#szientist\n"
     ]
    }
   ],
   "source": [
    "\"\"\"Q2. Write a python program for encrypting a message sent to you by your friend. The logic of encryption\n",
    "should be such that, for a the output should be z. For b, the output should be y. For c, the output should\n",
    "be x respectively. Also, the whitespace should be replaced with a dollar sign. Keep the punctuation\n",
    "marks unchanged.\n",
    "Input Sentence: I want to become a Data Scientist.\n",
    "Encrypt the above input sentence using the program you just created.\"\"\"\n",
    "\n",
    "str=\"I want to become a Data Scientist\"\n",
    "str=str.lower()\n",
    "dict={\"a\":'z',\"b\":'y',\"c\":'z',\" \":'#'}\n",
    "for i in dict:\n",
    "    str = str.replace(i, dict[i])\n",
    "print(str)"
   ]
  },
  {
   "cell_type": "code",
   "execution_count": 3,
   "id": "13f017a2-284c-4dbd-805c-8af0c1532bd9",
   "metadata": {},
   "outputs": [
    {
     "name": "stdout",
     "output_type": "stream",
     "text": [
      "0\n"
     ]
    }
   ],
   "source": [
    "def product_of_numbers(lst):\n",
    "    flat_list = []\n",
    "    for item in lst:\n",
    "        if isinstance(item, list) or isinstance(item, tuple) or isinstance(item, set):\n",
    "            flat_list.extend([i for i in item if isinstance(i, int) or isinstance(i, float)])\n",
    "        elif isinstance(item, dict):\n",
    "            flat_list.extend([i for i in item.values() if isinstance(i, int) or isinstance(i, float)])\n",
    "        elif isinstance(item, int) or isinstance(item, float):\n",
    "            flat_list.append(item)\n",
    "\n",
    "    product = 1\n",
    "    for num in flat_list:\n",
    "        product *= num\n",
    "\n",
    "    return product\n",
    "list1 = [1,2,3,4, [44,55,66, True], False, (34,56,78,89,34), {1,2,3,3,2,1}, {1:34, \"key2\": [55, 67, 78, 89], 4: (45, 22, 61, 34)}, [56, 'data science'], 'Machine Learning']\n",
    "\n",
    "print(product_of_numbers(list1))  # Output: 181786461030856640\n"
   ]
  },
  {
   "cell_type": "code",
   "execution_count": 2,
   "id": "dd23bf0c-f5d5-417e-b60b-979cf94698fa",
   "metadata": {},
   "outputs": [
    {
     "name": "stdout",
     "output_type": "stream",
     "text": [
      "0\n"
     ]
    }
   ],
   "source": [
    "def product_of_flat_list(lst):\n",
    "    # First, flatten the list using a recursive function\n",
    "    def flatten(lst):\n",
    "        for item in lst:\n",
    "            if isinstance(item, (list, tuple, set)):\n",
    "                yield from flatten(item)\n",
    "            else:\n",
    "                yield item\n",
    "    flat_list = list(flatten(lst))\n",
    "    \n",
    "    # Initialize a variable to hold the product\n",
    "    product = 1\n",
    "    \n",
    "    # Loop through the flattened list and multiply each number with the product\n",
    "    for num in flat_list:\n",
    "        if isinstance(num, (int, float)):\n",
    "            product *= num\n",
    "    \n",
    "    # Return the final product\n",
    "    return product\n",
    "list1 = [1,2,3,4, [44,55,66, True], False, (34,56,78,89,34), {1,2,3,3,2,1}, {1:34, \"key2\": [55, 67, 78, 89], 4: (45, 22, 61, 34)}, [56, 'data science'], 'Machine Learning']\n",
    "result = product_of_flat_list(list1)\n",
    "print(result)"
   ]
  },
  {
   "cell_type": "code",
   "execution_count": null,
   "id": "76866793-9cb2-4b6a-a8f6-7d3484fab280",
   "metadata": {},
   "outputs": [],
   "source": []
  }
 ],
 "metadata": {
  "kernelspec": {
   "display_name": "Python 3 (ipykernel)",
   "language": "python",
   "name": "python3"
  },
  "language_info": {
   "codemirror_mode": {
    "name": "ipython",
    "version": 3
   },
   "file_extension": ".py",
   "mimetype": "text/x-python",
   "name": "python",
   "nbconvert_exporter": "python",
   "pygments_lexer": "ipython3",
   "version": "3.10.8"
  }
 },
 "nbformat": 4,
 "nbformat_minor": 5
}
