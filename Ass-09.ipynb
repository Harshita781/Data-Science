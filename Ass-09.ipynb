{
 "cells": [
  {
   "cell_type": "markdown",
   "id": "254c3596-a139-4fb4-89c9-676bfc2cdffd",
   "metadata": {},
   "source": [
    "#### Q1. What is an Exception in python? Write the difference between Exception and Syntax errors.\n",
    "Exception: An Exception is an error that happens during the execution of a program.\n",
    "\n",
    "1. SyntaxError: This exception is raised when the interpreter encounters a syntax error in the code,such as a misspelled keyword, a missing colon, or an unbalanced parenthesis.\n",
    "\n",
    "2. Exception: Exceptions are raised when the program is syntactically correct, but the code results in an error. This error does not stop the execution of the program, however, it changes the normal flow of the program."
   ]
  },
  {
   "cell_type": "markdown",
   "id": "1d887bd0-3139-49ef-be76-d707b6bad58b",
   "metadata": {},
   "source": [
    "Q.2 What happen when an exception is not handeled? Explain with example.\n",
    "Ans- If the exception is not handeled then the program will be blocked.\n",
    "\n",
    "In the below examples we can see on getting error in try block in first example the statement is not executed and program terminate, \n",
    "but in the second example a is printing the output because we have applied exception here."
   ]
  },
  {
   "cell_type": "code",
   "execution_count": 1,
   "id": "67c8a985-e085-405d-95ae-1375d6b0d527",
   "metadata": {},
   "outputs": [
    {
     "ename": "SyntaxError",
     "evalue": "expected 'except' or 'finally' block (31896619.py, line 3)",
     "output_type": "error",
     "traceback": [
      "\u001b[0;36m  Cell \u001b[0;32mIn[1], line 3\u001b[0;36m\u001b[0m\n\u001b[0;31m    a=4+5\u001b[0m\n\u001b[0m    ^\u001b[0m\n\u001b[0;31mSyntaxError\u001b[0m\u001b[0;31m:\u001b[0m expected 'except' or 'finally' block\n"
     ]
    }
   ],
   "source": [
    "try: \n",
    "    f=open(\"temp.txt\",\"r\")\n",
    "a=4+1\n",
    "a"
   ]
  },
  {
   "cell_type": "code",
   "execution_count": 3,
   "id": "8aa55e23-121d-448b-a5cb-8b980b1f8571",
   "metadata": {},
   "outputs": [
    {
     "name": "stdout",
     "output_type": "stream",
     "text": [
      "This is our exception block [Errno 2] No such file or directory: 'temp.txt'\n"
     ]
    },
    {
     "data": {
      "text/plain": [
       "5"
      ]
     },
     "execution_count": 3,
     "metadata": {},
     "output_type": "execute_result"
    }
   ],
   "source": [
    "try:\n",
    "    f=open(\"temp.txt\",\"r\")\n",
    "except Exception as e:\n",
    "    print(\"This is our exception block\",e)\n",
    "a=4+1\n",
    "a"
   ]
  },
  {
   "cell_type": "markdown",
   "id": "21604b0f-6ebc-44aa-992a-94b1f862d381",
   "metadata": {},
   "source": [
    "Q.3 Which python statements are used to catch and handel exceptions? Explain with example.\n",
    "Ans:\n",
    "1. try: Here we will put the operations or statement we want to perform in a program.\n",
    "2. except: Here we will put the things that we want to show when we are getting error in try block. This will only be executed when we will get error in try block."
   ]
  },
  {
   "cell_type": "code",
   "execution_count": 5,
   "id": "fb1eb72d-28eb-4216-af7a-6309c914c902",
   "metadata": {},
   "outputs": [
    {
     "name": "stdout",
     "output_type": "stream",
     "text": [
      "Error in try block:  not writable\n"
     ]
    }
   ],
   "source": [
    "try:\n",
    "    f=open(\"test.txt\",\"r\")\n",
    "    f.write(\"write something\")\n",
    "except Exception as e:\n",
    "    print(\"Error in try block: \",e)"
   ]
  },
  {
   "cell_type": "markdown",
   "id": "0be20d7a-14a1-403a-86e0-6244f40b3759",
   "metadata": {},
   "source": [
    "Q.4 Explain with an example:\n",
    "a. try and else\n",
    "b. finally\n",
    "c. raise\n",
    "\n",
    "try: This block will test the excepted error to occur.\n",
    "else: If there is no exception then this block will be executed.\n",
    "finally: Finally block always gets executed either exception is generated or not.\n",
    "raise: The raise keyword is used to raise an exception.You can define what kind of error to raise, and the text to print to the user."
   ]
  },
  {
   "cell_type": "code",
   "execution_count": 12,
   "id": "a8eaf0a4-6eb4-4adf-ab20-0e189e44f011",
   "metadata": {},
   "outputs": [
    {
     "name": "stdin",
     "output_type": "stream",
     "text": [
      "Enter a number: 23\n"
     ]
    },
    {
     "name": "stdout",
     "output_type": "stream",
     "text": [
      "This is our else block\n",
      "This is our finally\n"
     ]
    }
   ],
   "source": [
    "def validate(x):\n",
    "     if x is str:\n",
    "        raise Exception(\"only integer is allowed\")\n",
    "try:\n",
    "    x=int(input(\"Enter a number:\"))\n",
    "    validate(x)\n",
    "except Exception as e:\n",
    "   print(\"TypeError\",e)\n",
    "else: \n",
    "    print(\"This is our else block\")\n",
    "finally:\n",
    "    print(\"This is our finally\")"
   ]
  },
  {
   "cell_type": "markdown",
   "id": "17785be7-de93-4ecd-bb06-1b3f109aac34",
   "metadata": {},
   "source": [
    "Q.5 What are custom exceptions in python? Why do we need custom exception? Explain with an example.\n",
    "Ans- The exceptions tha are defined by user according their requirements and derived from built-in classes are called custom exceptions.Sometimes based on project requirement, a programmer needs to create his own exceptions and raise explicitly for corresponding scenarios.\n"
   ]
  },
  {
   "cell_type": "code",
   "execution_count": 9,
   "id": "9e390b12-8b37-4ff1-a002-d386d3d632fa",
   "metadata": {},
   "outputs": [
    {
     "name": "stdin",
     "output_type": "stream",
     "text": [
      "Enter percent: 45\n"
     ]
    },
    {
     "name": "stdout",
     "output_type": "stream",
     "text": [
      "Entered percent is valid\n"
     ]
    }
   ],
   "source": [
    "class checkpercentage(Exception):\n",
    "    def __init__(self,msg):\n",
    "        self.msg=msg;\n",
    "def validate(percent):\n",
    "    if percent<0:\n",
    "        raise checkpercentage(\"Entered percent is invalid\")\n",
    "    elif percent>100:\n",
    "        raise checkpercentage(\"Entered percent is too high\")\n",
    "    else:\n",
    "        raise checkpercentage(\"Entered percent is valid\")\n",
    "        \n",
    "try:\n",
    "    percent=int(input(\"Enter percent:\"))\n",
    "    validate(percent)\n",
    "except checkpercentage as e:\n",
    "    print(e)\n",
    "\n"
   ]
  },
  {
   "cell_type": "code",
   "execution_count": 12,
   "id": "743ec1c8-e707-4319-a92f-76ae3ad1be24",
   "metadata": {},
   "outputs": [
    {
     "name": "stdin",
     "output_type": "stream",
     "text": [
      "Enter a number:  44\n"
     ]
    },
    {
     "name": "stdout",
     "output_type": "stream",
     "text": [
      "Eligible to Vote\n"
     ]
    }
   ],
   "source": [
    "\"\"\" Q.6 Create a custom exception class. Use this class to handle an exception.\"\"\"\n",
    "class InvalidAgeException(Exception):\n",
    "    \"Raised when the input value is less than 18\"\n",
    "    pass\n",
    "\n",
    "number = 18\n",
    "\n",
    "try:\n",
    "    input_num = int(input(\"Enter a number: \"))\n",
    "    if input_num < number:\n",
    "        raise InvalidAgeException\n",
    "    else:\n",
    "        print(\"Eligible to Vote\")\n",
    "        \n",
    "except InvalidAgeException:\n",
    "    print(\"Exception occurred: Invalid Age\")"
   ]
  }
 ],
 "metadata": {
  "kernelspec": {
   "display_name": "Python 3 (ipykernel)",
   "language": "python",
   "name": "python3"
  },
  "language_info": {
   "codemirror_mode": {
    "name": "ipython",
    "version": 3
   },
   "file_extension": ".py",
   "mimetype": "text/x-python",
   "name": "python",
   "nbconvert_exporter": "python",
   "pygments_lexer": "ipython3",
   "version": "3.10.8"
  }
 },
 "nbformat": 4,
 "nbformat_minor": 5
}
